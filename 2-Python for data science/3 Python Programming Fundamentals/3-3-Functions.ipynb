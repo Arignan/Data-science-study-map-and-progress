{
  "metadata": {
    "kernelspec": {
      "name": "python",
      "display_name": "Python (Pyodide)",
      "language": "python"
    },
    "language_info": {
      "codemirror_mode": {
        "name": "python",
        "version": 3
      },
      "file_extension": ".py",
      "mimetype": "text/x-python",
      "name": "python",
      "nbconvert_exporter": "python",
      "pygments_lexer": "ipython3",
      "version": "3.8"
    }
  },
  "nbformat_minor": 4,
  "nbformat": 4,
  "cells": [
    {
      "cell_type": "markdown",
      "source": "<p style='color: red'><b>NOTE FOR THE AUTHOR. DELETE THIS CELL BEFORE PUBLISHING THE LAB</b></p>\n\n__Resources for creating a JupyterLite notebook:__\n - [Loading data in JupyterLite](https://author.skills.network/docs/labs/jupyterlite#loading-data)\n - [Headings](https://jupyter-notebook.readthedocs.io/en/stable/examples/Notebook/Working%20With%20Markdown%20Cells.html#Headings)\n - [Adding math (LaTeX) content](https://jupyter-notebook.readthedocs.io/en/stable/examples/Notebook/Working%20With%20Markdown%20Cells.html#LaTeX-equations)\n - [Adding images and figures](https://jupyterbook.org/content/figures.html)\n",
      "metadata": {}
    },
    {
      "cell_type": "markdown",
      "source": "# **Lab Title**\n",
      "metadata": {}
    },
    {
      "cell_type": "markdown",
      "source": "Estimated time needed: **X** minutes\n",
      "metadata": {}
    },
    {
      "cell_type": "markdown",
      "source": "Add a concise description of what you will be doing in this lab.\n\n<p style='color: red'>Give the learner a preview of the problem/story that [Subject of the Lab] will end up solving.</p>\n",
      "metadata": {}
    },
    {
      "cell_type": "markdown",
      "source": "## __Table of Contents__\n\n<ol>\n    <li><a href=\"#Objectives\">Objectives</a></li>\n    <li>\n        <a href=\"#Setup\">Setup</a>\n        <ol>\n            <li><a href=\"#Installing-Required-Libraries\">Installing Required Libraries</a></li>\n            <li><a href=\"#Importing-Required-Libraries\">Importing Required Libraries</a></li>\n            <li><a href=\"#Defining-Helper-Functions\">Defining Helper Functions</a></li>\n        </ol>\n    </li>\n    <li>\n        <a href=\"#Background-(optional)\">Background (optional)</a>\n        <ol>\n            <li><a href=\"#What-does-[Subject-of-the-Lab]-do?\">What does [Subject of the Lab] do?</a></li>\n            <li><a href=\"#How-does-[Subject-of-the-Lab]-work?\">How does [Subject of the Lab] work?</a></li>\n        </ol>\n    </li>\n    <li><a href=\"#Example-1---Classification-Problem.--Predicting-the-types-of-Iris-flowers\">Example 1: Classification Problem. Predicting the types of Iris flowers</a></li>\n    <li><a href=\"#Example-2---Model-Building.-Application-of-reading-cheques\">Example 2: Model Building. Application of reading cheques</a></li>\n</ol>\n\n<a href=\"#Exercises\">Exercises</a>\n<ol>\n    <li><a href=\"#Exercise-1---Loading-a-dataset-(wine-dataset)\">Exercise 1. Loading a dataset (wine dataset)</a></li>\n    <li><a href=\"#Exercise-2---Type-in-Exercise-2-subject-here\">Exercise 2. Type in Exercise 2 subject here</a></li>\n    <li><a href=\"#Exercise-3---Type-in-Exercise-3-subject-here\">Exercise 3. Type in Exercise 3 subject here</a></li>\n</ol>\n",
      "metadata": {}
    },
    {
      "cell_type": "markdown",
      "source": "## Objectives\n\nAfter completing this lab you will be able to:\n\n - Use [Subject of Lab] to solve [X kind of Problem].\n",
      "metadata": {}
    },
    {
      "cell_type": "markdown",
      "source": "----\n",
      "metadata": {}
    },
    {
      "cell_type": "markdown",
      "source": "## Setup\n",
      "metadata": {}
    },
    {
      "cell_type": "markdown",
      "source": "For this lab, we will be using the following libraries:\n\n*   [`pandas`](https://pandas.pydata.org/?utm_medium=Exinfluencer&utm_source=Exinfluencer&utm_content=000026UJ&utm_term=10006555&utm_id=NA-SkillsNetwork-Channel-SkillsNetworkCoursesIBMML0187ENSkillsNetwork31430127-2021-01-01) for managing the data.\n*   [`numpy`](https://numpy.org/?utm_medium=Exinfluencer&utm_source=Exinfluencer&utm_content=000026UJ&utm_term=10006555&utm_id=NA-SkillsNetwork-Channel-SkillsNetworkCoursesIBMML0187ENSkillsNetwork31430127-2021-01-01) for mathematical operations.\n*   [`sklearn`](https://scikit-learn.org/stable/?utm_medium=Exinfluencer&utm_source=Exinfluencer&utm_content=000026UJ&utm_term=10006555&utm_id=NA-SkillsNetwork-Channel-SkillsNetworkCoursesIBMML0187ENSkillsNetwork31430127-2021-01-01) for machine learning and machine-learning-pipeline related functions.\n*   [`seaborn`](https://seaborn.pydata.org/?utm_medium=Exinfluencer&utm_source=Exinfluencer&utm_content=000026UJ&utm_term=10006555&utm_id=NA-SkillsNetwork-Channel-SkillsNetworkCoursesIBMML0187ENSkillsNetwork31430127-2021-01-01) for visualizing the data.\n*   [`matplotlib`](https://matplotlib.org/?utm_medium=Exinfluencer&utm_source=Exinfluencer&utm_content=000026UJ&utm_term=10006555&utm_id=NA-SkillsNetwork-Channel-SkillsNetworkCoursesIBMML0187ENSkillsNetwork31430127-2021-01-01) for additional plotting tools.\n",
      "metadata": {}
    },
    {
      "cell_type": "markdown",
      "source": "### Installing Required Libraries\n\nThe following required libraries are pre-installed in the Skills Network Labs environment. However, if you run this notebook commands in a different Jupyter environment (e.g. Watson Studio or Ananconda), you will need to install these libraries by removing the `#` sign before `!mamba` in the code cell below.\n",
      "metadata": {}
    },
    {
      "cell_type": "code",
      "source": "# All Libraries required for this lab are listed below. The libraries pre-installed on Skills Network Labs are commented.\n# !mamba install -qy pandas==1.3.4 numpy==1.21.4 seaborn==0.9.0 matplotlib==3.5.0 scikit-learn==0.20.1\n# Note: If your environment doesn't support \"!mamba install\", use \"!pip install\"",
      "metadata": {},
      "outputs": [],
      "execution_count": null
    },
    {
      "cell_type": "markdown",
      "source": "The following required libraries are __not__ pre-installed in the Skills Network Labs environment. __You will need to run the following cell__ to install them:\n",
      "metadata": {}
    },
    {
      "cell_type": "code",
      "source": "import piplite\nawait piplite.install(['tqdm', 'seaborn', 'skillsnetwork'])",
      "metadata": {},
      "outputs": [],
      "execution_count": null
    },
    {
      "cell_type": "markdown",
      "source": "### Importing Required Libraries\n\n_We recommend you import all required libraries in one place (here):_\n",
      "metadata": {}
    },
    {
      "cell_type": "code",
      "source": "from tqdm import tqdm\nimport skillsnetwork\nimport numpy as np\nimport pandas as pd\nfrom itertools import accumulate\nimport matplotlib.pyplot as plt\nimport seaborn as sns\n%matplotlib inline\nfrom sklearn.preprocessing import StandardScaler\nfrom sklearn.linear_model import LogisticRegression\nfrom sklearn.datasets import load_digits, load_wine\n\n# You can also use this section to suppress warnings generated by your code:\ndef warn(*args, **kwargs):\n    pass\nimport warnings\nwarnings.warn = warn\nwarnings.filterwarnings('ignore')\n\nsns.set_context('notebook')\nsns.set_style('white')",
      "metadata": {},
      "outputs": [],
      "execution_count": null
    },
    {
      "cell_type": "markdown",
      "source": "### Defining Helper Functions\n\n_Use this section to define any helper functions to help the notebook's code readability:_\n",
      "metadata": {}
    },
    {
      "cell_type": "code",
      "source": "# This function will allow us to easily plot data taking in x values, y values, and a title\ndef plotter(x, y, title):\n    plt.plot(x, y)\n    plt.xlabel('X')\n    plt.ylabel('Y')\n    plt.title(title)\n    plt.show()",
      "metadata": {},
      "outputs": [],
      "execution_count": null
    },
    {
      "cell_type": "markdown",
      "source": "## Background (optional)\n\n_It can be helpful to give an intuitive explanation of the subject of your notebook_.\n\n<p style='color: blue'>For example, if the lab were about Logistic Regression:</p>\n\nBefore we begin using **Logistic Regression**, we should first understand:\n\n1.  What Logistic Regression does\n2.  How Logistic Regression works\n",
      "metadata": {}
    },
    {
      "cell_type": "markdown",
      "source": "### What does [Subject of the Lab] do?\n\n#### [Subject of the Lab]:\n\n - Solves X kind of problem by doing Y\n",
      "metadata": {}
    },
    {
      "cell_type": "markdown",
      "source": "### How does [Subject of the Lab] work?\n\n#### [Subject of the Lab]:\n\n 1. \n 2. \n 3. \n\nPutting it all together:\n\n<img src=\"https://cf-courses-data.s3.us.cloud-object-storage.appdomain.cloud/template/images/perceptron.jpeg\" width=\"30%\" alt=\"perceptron illustration\">\n\n<p style='color: blue'>We recommend you use diagrams to help your learners' intuition.</p>\n",
      "metadata": {}
    },
    {
      "cell_type": "markdown",
      "source": "## Example 1 - Classification Problem.  Predicting the types of Iris flowers\n\n<img src=\"https://cf-courses-data.s3.us.cloud-object-storage.appdomain.cloud/template/images/iris.jpeg\" width=\"30%\" alt=\"iris image\">\n\n<p style='color:blue'>It can be helpful for the learner to start with a simpler example.</p>\n<p style='color:blue'>We highly recommend you add images and create a story around your examples, to engage the learner and help them remember the specific application:</p>\n\nYour local floriculture would like to keep stock of the different species of iris' it's growing.\n\nA system has been made to collect the:\n - `sepal_length`\n - `sepal_width`\n - `petal_length`\n - `petal_width`\n \nof the flowers.\n\nYour task is to find the specific iris species given this data.\n\nLet's start by loading the iris data into a `pandas.DataFrame`:\n\nSince you're using `jupyterlite`, you will need to use the following method to load datasets:\n",
      "metadata": {}
    },
    {
      "cell_type": "code",
      "source": "await skillsnetwork.download_dataset('https://cf-courses-data.s3.us.cloud-object-storage.appdomain.cloud/IBM-ML0187EN-SkillsNetwork/labs/module%202/iris.csv')\ndf = pd.read_csv('iris.csv')",
      "metadata": {},
      "outputs": [],
      "execution_count": null
    },
    {
      "cell_type": "markdown",
      "source": "Let's look at some samples rows from the dataset we loaded:\n",
      "metadata": {}
    },
    {
      "cell_type": "code",
      "source": "df.sample(5)",
      "metadata": {},
      "outputs": [],
      "execution_count": null
    },
    {
      "cell_type": "markdown",
      "source": "<p style='color: blue'>Since this is a template lab, this section is incomplete.</p>\n",
      "metadata": {}
    },
    {
      "cell_type": "markdown",
      "source": "## Example 2 - Model Building. Application of reading cheques\n\n<img src=\"https://cf-courses-data.s3.us.cloud-object-storage.appdomain.cloud/template/images/cheques.jpeg\" width=\"30%\" alt=\"cheques image\">\n\n<p style='color:blue'>Add stories to your examples to engage the learner and help them remember the use case of the notebook's subject:</p>\n\nYou local bank IMBank is rapidly gaining more users and needs your help!\nIMBank is looking for an experienced data scientist to help them build a system that can automatically read cheques.\n",
      "metadata": {}
    },
    {
      "cell_type": "markdown",
      "source": "First we load data into a `pandas.DataFrame`:\n",
      "metadata": {}
    },
    {
      "cell_type": "code",
      "source": "digits = load_digits()",
      "metadata": {},
      "outputs": [],
      "execution_count": null
    },
    {
      "cell_type": "code",
      "source": "data = digits.data\ntarget = digits.target\ndf = pd.DataFrame(data=np.c_[data, target], columns=[f'x{i}' for i in range(data.shape[1])] + ['y'])\ndf.head()",
      "metadata": {},
      "outputs": [],
      "execution_count": null
    },
    {
      "cell_type": "markdown",
      "source": "Let's look some of our example data:\n",
      "metadata": {}
    },
    {
      "cell_type": "code",
      "source": "plt.gray()\nnrows = 2\nncols = 4\nfig, axes = plt.subplots(nrows=nrows, ncols=ncols)\nit = iter(digits.images)\nfor r in range(nrows):\n    for c in range(ncols):\n        axes[r][c].matshow(next(it))\nplt.show()",
      "metadata": {},
      "outputs": [],
      "execution_count": null
    },
    {
      "cell_type": "markdown",
      "source": "<p style='color: blue'>Since this is a template lab, this section is incomplete</p>\n",
      "metadata": {}
    },
    {
      "cell_type": "markdown",
      "source": "# Exercises\n\n<p style='color:blue'>We recommend you add exercises to your notebook, to help your learners apply what they have learned.</p>\n",
      "metadata": {}
    },
    {
      "cell_type": "code",
      "source": "# Optional (if exercises require datasets):\n\n# !wget [url for dataset used in exercises]",
      "metadata": {},
      "outputs": [],
      "execution_count": null
    },
    {
      "cell_type": "markdown",
      "source": "### Exercise 1 - Loading a dataset (wine dataset)\n",
      "metadata": {}
    },
    {
      "cell_type": "code",
      "source": "df = # TODO",
      "metadata": {},
      "outputs": [],
      "execution_count": null
    },
    {
      "cell_type": "markdown",
      "source": "<details>\n    <summary>Click here for Solution</summary>\n\n```python\nwine = load_wine()\ndata = wine.data\ntarget = wine.target\ndf = pd.DataFrame(data=np.c_[data, target], columns=[f'x{i}' for i in range(data.shape[1])] + ['y'])\n```\n\n</details>\n",
      "metadata": {}
    },
    {
      "cell_type": "markdown",
      "source": "### Exercise 2 - Type in Exercise 2 subject here\n",
      "metadata": {}
    },
    {
      "cell_type": "markdown",
      "source": "Here is a sample question, using the following values, please use the plotter helper function to plot the data. Please type your answer in the available code box below.\n",
      "metadata": {}
    },
    {
      "cell_type": "code",
      "source": "# Add any skeleton code for example 2 here",
      "metadata": {},
      "outputs": [],
      "execution_count": null
    },
    {
      "cell_type": "markdown",
      "source": "<details>\n    <summary>Click here for a Hint</summary>\n    \nSometimes you might want to give a hint instead of the full answer.\n\n</details>\n",
      "metadata": {}
    },
    {
      "cell_type": "markdown",
      "source": "### Exercise 3 - Type in Exercise 3 subject here\n",
      "metadata": {}
    },
    {
      "cell_type": "markdown",
      "source": "Content for Question 3\n",
      "metadata": {}
    },
    {
      "cell_type": "code",
      "source": "# Add any skeleton code for example 3 here",
      "metadata": {},
      "outputs": [],
      "execution_count": null
    },
    {
      "cell_type": "markdown",
      "source": "<details>\n    <summary>Click here for Solution</summary>\n\n```python\n# Enter solution for exercise 3 here.\n```\n\n</details>\n",
      "metadata": {}
    },
    {
      "cell_type": "markdown",
      "source": "[Author1 Name (with link to social profile)](author_link)\n",
      "metadata": {}
    },
    {
      "cell_type": "markdown",
      "source": "Author1 Bio (Optional)\n",
      "metadata": {}
    },
    {
      "cell_type": "markdown",
      "source": "Author2 Name\n",
      "metadata": {}
    },
    {
      "cell_type": "markdown",
      "source": "Author2 Bio (Optional)\n",
      "metadata": {}
    },
    {
      "cell_type": "markdown",
      "source": "### Other Contributors\n",
      "metadata": {}
    },
    {
      "cell_type": "markdown",
      "source": "[Contributor with Link](contributor_linl), Contributor No Link\n",
      "metadata": {}
    },
    {
      "cell_type": "markdown",
      "source": "<img src=\"https://cf-courses-data.s3.us.cloud-object-storage.appdomain.cloud/IBMDeveloperSkillsNetwork-PY0101EN-SkillsNetwork/SNIBMfooter.png\" alt=\"\" width=\"\" height=\"\">\n",
      "metadata": {}
    },
    {
      "cell_type": "markdown",
      "source": "Functions\n\nA function is a fundamental buildingblock that encapsulates specific actions or computations. As in mathematics, where functions take inputs and produce outputs, programming functions perform similarly. They take inputs, execute predefined actions or calculations, and then return an output.",
      "metadata": {}
    },
    {
      "cell_type": "markdown",
      "source": "Purpose of functions\n\nFunctions promote code modularity and reusability. Imagine you have a task that needs to be performed multiple times within a program. Instead of duplicating the same code at various places, you can define a function once and call it whenever you need that task. This reduces redundancy and makes the code easier to manage and maintain.",
      "metadata": {}
    },
    {
      "cell_type": "markdown",
      "source": "Benefits of using functions\n\nModularity: Functions break down complex tasks into manageable components\nReusability: Functions can be used multiple times without rewriting code\nReadability: Functions with meaningful names enhance code understanding\nDebugging: Isolating functions eases troubleshooting and issue fixing\nAbstraction: Functions simplify complex processes behind a user-friendly interface\nCollaboration: Team members can work on different functions concurrently\nMaintenance: Changes made in a function automatically apply wherever it's used\n",
      "metadata": {}
    },
    {
      "cell_type": "code",
      "source": "#Example:\n\n#Consider a function named calculate_total that takes two numbers as input (parameters), adds them together, and then produces the sum as the output. Here's how it works:\n\n\ndef calculate_total(a, b):  # Parameters: a and b\n    total = a + b           # Task: Addition\n    return total            # Output: Sum of a and b\n\nresult = calculate_total(5, 7)  # Calling the function with inputs 5 and 7\nprint(result)  # Output: 12",
      "metadata": {
        "trusted": true
      },
      "outputs": [],
      "execution_count": null
    },
    {
      "cell_type": "markdown",
      "source": "Python's built-in functions",
      "metadata": {}
    },
    {
      "cell_type": "code",
      "source": "#len(): Calculates the length of a sequence or collection\n\nstring_length = len(\"Hello, World!\")  # Output: 13\nlist_length = len([1, 2, 3, 4, 5])   # Output: 5",
      "metadata": {
        "trusted": true
      },
      "outputs": [],
      "execution_count": null
    },
    {
      "cell_type": "code",
      "source": "#sum(): Adds up the elements in an iterable (list, tuple, and so on)\n\ntotal = sum([10, 20, 30, 40, 50])  # Output: 150",
      "metadata": {
        "trusted": true
      },
      "outputs": [],
      "execution_count": null
    },
    {
      "cell_type": "code",
      "source": "#max(): Returns the maximum value in an iterable\n\nhighest = max([5, 12, 8, 23, 16])  # Output: 23",
      "metadata": {
        "trusted": true
      },
      "outputs": [],
      "execution_count": null
    },
    {
      "cell_type": "code",
      "source": "#min(): Returns the minimum value in an iterable\n\nlowest = min([5, 12, 8, 23, 16])  # Output: 5",
      "metadata": {
        "trusted": true
      },
      "outputs": [],
      "execution_count": null
    },
    {
      "cell_type": "code",
      "source": "#Defining your functions\n\n#Defining a function is like creating your mini-program:\n\n#Use def followed by the function name and parentheses",
      "metadata": {
        "trusted": true
      },
      "outputs": [],
      "execution_count": null
    },
    {
      "cell_type": "code",
      "source": "#Here is the syntax to define a function:\ndef function_name():\n    pass",
      "metadata": {
        "trusted": true
      },
      "outputs": [],
      "execution_count": null
    },
    {
      "cell_type": "markdown",
      "source": "\nA \"pass\" statement in a programming function is a placeholder or a no-op (no operation) statement. Use it when you want to define a function or a code block syntactically but do not want to specify any functionality or implementation at that moment.\n\nPlaceholder: \"pass\" acts as a temporary placeholder for future code that you intend to write within a function or a code block.\n\nSyntax Requirement: In many programming languages like Python, using \"pass\" is necessary when you define a function or a conditional block. It ensures that the code remains syntactically correct, even if it doesn't do anything yet.\n\nNo Operation: \"pass\" itself doesn't perform any meaningful action. When the interpreter encounters “pass”, it simply moves on to the next statement without executing any code.\n",
      "metadata": {}
    },
    {
      "cell_type": "markdown",
      "source": "\nFunction Parameters:\n\nParameters are like inputs for functions\nThey go inside parentheses when defining the function\nFunctions can have multiple parameters\n",
      "metadata": {}
    },
    {
      "cell_type": "code",
      "source": "#Example\n\ndef greet(name):\n    print(\"Hello, \" + name)\n\nresult = greet(\"Alice\")\nprint(result)  # Output: Hello, Alice",
      "metadata": {
        "trusted": true
      },
      "outputs": [],
      "execution_count": null
    },
    {
      "cell_type": "markdown",
      "source": "Docstrings (Documentation Strings)\n\nDocstrings explain what a function does\nPlaced inside triple quotes under the function definition\nHelps other developers understand your function",
      "metadata": {}
    },
    {
      "cell_type": "code",
      "source": "#Example\n\ndef multiply(a, b):\n    \"\"\"\n    This function multiplies two numbers.\n    Input: a (number), b (number)\n    Output: Product of a and b\n    \"\"\"\n    print(a * b)\nmultiply(2,6)",
      "metadata": {
        "trusted": true
      },
      "outputs": [],
      "execution_count": null
    },
    {
      "cell_type": "markdown",
      "source": "Return statement\n\nReturn gives back a value from a function\nEnds the function's execution and sends the result\nA function can return various types of data",
      "metadata": {}
    },
    {
      "cell_type": "code",
      "source": "#Example\n\ndef add(a, b):\n    return a + b\n\nsum_result = add(3, 5)  # sum_result gets the value 8\nprint(sum_result)",
      "metadata": {
        "trusted": true
      },
      "outputs": [],
      "execution_count": null
    },
    {
      "cell_type": "markdown",
      "source": "Understanding scopes and variables\n\nScope is where a variable can be seen and used:\n\nGlobal Scope: Variables defined outside functions; accessible everywhere\nLocal Scope: Variables inside functions; only usable within that function",
      "metadata": {}
    },
    {
      "cell_type": "code",
      "source": "#Part 1: Global variable declaration\n\n\nglobal_variable = \"I'm global\"\n\n#This line initializes a global variable called global_variable and assigns it the value \"I'm global\".\n\n#Global variables are accessible throughout the entire program, both inside and outside functions.\n",
      "metadata": {
        "trusted": true
      },
      "outputs": [],
      "execution_count": null
    },
    {
      "cell_type": "code",
      "source": "#Part 2: Function definition\n\n\ndef example_function():\n    local_variable = \"I'm local\"\n    print(global_variable)  # Accessing global variable\n    print(local_variable)   # Accessing local variable\n\n#Here, you define a function called example_function().\n\n#Within this function:\n\n#A local variable named local_variable is declared and initialized with the string value \"I'm local.\" This variable is local to the function and can only be accessed within the function's scope.\n\n#The function then prints the values of both the global variable (global_variable) and the local variable (local_variable). It demonstrates that you can access global and local variables within a function.",
      "metadata": {
        "trusted": true
      },
      "outputs": [],
      "execution_count": null
    },
    {
      "cell_type": "code",
      "source": "#Part 3: Function call\n\nexample_function()\n\n#In this part, you call the example_function() by invoking it. This results in the function's code being executed.\n#As a result of this function call, it will print the values of the global and local variables within the function.",
      "metadata": {
        "trusted": true
      },
      "outputs": [],
      "execution_count": null
    },
    {
      "cell_type": "code",
      "source": "#Part 4: Accessing global variable outside the function\n\nprint(global_variable)  # Accessible outside the function\n\n#After calling the function, you print the value of the global variable global_variable outside the function. This demonstrates that global variables are accessible inside and outside of functions.\n",
      "metadata": {
        "trusted": true
      },
      "outputs": [],
      "execution_count": null
    },
    {
      "cell_type": "markdown",
      "source": "#Part 5: Attempting to access local variable outside the function\n\n# print(local_variable)  # Error, local variable not visible here\n\n#In this part, you are attempting to print the value of the local variable local_variable outside of the function. However, this line would result in an error.\n\n#Local variables are only visible and accessible within the scope of the function where they are defined.\n#Attempting to access them outside of that scope would raise a \"NameError\".",
      "metadata": {}
    },
    {
      "cell_type": "code",
      "source": "#Using functions with loops",
      "metadata": {
        "trusted": true
      },
      "outputs": [],
      "execution_count": null
    },
    {
      "cell_type": "markdown",
      "source": "Functions and loops together\n\nFunctions can contain code with loops\nThis makes complex tasks more organized\nThe loop code becomes a repeatable function\nExample:",
      "metadata": {}
    },
    {
      "cell_type": "code",
      "source": "def print_numbers(limit):\n    for i in range(1, limit+1):\n        print(i)\n\nprint_numbers(5)  # Output: 1 2 3 4 5",
      "metadata": {
        "trusted": true
      },
      "outputs": [],
      "execution_count": null
    },
    {
      "cell_type": "markdown",
      "source": "Enhancing code organization and reusability\n\nFunctions group similar actions for easy understanding\nLooping within functions keeps code clean\nYou can reuse a function to repeat actions\nExample",
      "metadata": {}
    },
    {
      "cell_type": "code",
      "source": "def greet(name):\n    return \"Hello, \" + name\n\nfor _ in range(3):\n    print(greet(\"Alice\"))",
      "metadata": {
        "trusted": true
      },
      "outputs": [],
      "execution_count": null
    },
    {
      "cell_type": "markdown",
      "source": "Modifying data structure using functions",
      "metadata": {}
    },
    {
      "cell_type": "code",
      "source": "#Part 2: Define a function to add elements\n\n# Function to add an element to the list\ndef add_element(data_structure, element):\n    data_structure.append(element)",
      "metadata": {
        "trusted": true
      },
      "outputs": [],
      "execution_count": null
    },
    {
      "cell_type": "markdown",
      "source": "Here, you define a function called add_element. This function takes two parameters:\n\ndata_structure: This parameter represents the list to which you want to add an element\nelement: This parameter represents the element you want to add to the list\nInside the function, you use the append method to add the provided element to the data_structure, which is assumed to be a list.",
      "metadata": {}
    },
    {
      "cell_type": "code",
      "source": "#Part 3: Define a function to remove elements\n\n# Function to remove an element from the list\ndef remove_element(data_structure, element):\n    if element in data_structure:\n        data_structure.remove(element)\n    else:\n        print(f\"{element} not found in the list.\")\n",
      "metadata": {
        "trusted": true
      },
      "outputs": [],
      "execution_count": null
    },
    {
      "cell_type": "markdown",
      "source": "\nIn this part, you define another function called remove_element. It also takes two parameters:\n\ndata_structure: The list from which we want to remove an element\nelement: The element we want to remove from the list\nInside the function, you use conditional statements to check if the element is present in the data_structure. If it is, you use the remove method to remove the first occurrence of the element. If it's not found, you print a message indicating that the element was not found in the list.\n",
      "metadata": {}
    },
    {
      "cell_type": "code",
      "source": "#Part 4: Add elements to the list\n\n\n# Add elements to the list using the add_element function\nadd_element(my_list, 42)\nadd_element(my_list, 17)\nadd_element(my_list, 99)\n\n#Here, you use the add_element function to add three elements (42, 17, and 99) to the my_list. These are added one at a time using function calls.",
      "metadata": {
        "trusted": true
      },
      "outputs": [],
      "execution_count": null
    },
    {
      "cell_type": "code",
      "source": "#Part 5: Print the current list\n\n\n# Print the current list\nprint(\"Current list:\", my_list)\n\n#This part simply prints the current state of the my_list to the console, allowing us to see the elements that have been added so far.",
      "metadata": {
        "trusted": true
      },
      "outputs": [],
      "execution_count": null
    },
    {
      "cell_type": "code",
      "source": "#Part 6: Remove elements from the list\n\n# Remove an element from the list using the remove_element function\nremove_element(my_list, 17)\nremove_element(my_list, 55)  # This will print a message since 55 is not in the list\n\n#In this part, you use the remove_element function to remove elements from the my_list. First, you attempt to remove 17 (which is in the list), and then you try to remove 55 (which is not in the list). The second call to remove_element will print a message indicating that 55 was not found.\n",
      "metadata": {
        "trusted": true
      },
      "outputs": [],
      "execution_count": null
    },
    {
      "cell_type": "code",
      "source": "#Part 7: Print the updated list\n\n# Print the updated list\nprint(\"Updated list:\", my_list)\n\n#Finally, you print the updated my_list to the console. This allows us to observe the modifications made to the list by adding and removing elements using the defined functions.",
      "metadata": {
        "trusted": true
      },
      "outputs": [],
      "execution_count": null
    }
  ]
}