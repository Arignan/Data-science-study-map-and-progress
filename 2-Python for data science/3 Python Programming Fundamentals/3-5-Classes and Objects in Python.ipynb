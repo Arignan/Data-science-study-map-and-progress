{
  "metadata": {
    "kernelspec": {
      "name": "python",
      "display_name": "Python (Pyodide)",
      "language": "python"
    },
    "language_info": {
      "codemirror_mode": {
        "name": "python",
        "version": 3
      },
      "file_extension": ".py",
      "mimetype": "text/x-python",
      "name": "python",
      "nbconvert_exporter": "python",
      "pygments_lexer": "ipython3",
      "version": "3.8"
    }
  },
  "nbformat_minor": 4,
  "nbformat": 4,
  "cells": [
    {
      "cell_type": "markdown",
      "source": "\n# Classes and Objects in Python\n\n## Objectives\n\nAfter completing this lab you will be able to:\n\n*   Work with classes and objects\n*   Identify and define attributes and methods\n",
      "metadata": {}
    },
    {
      "cell_type": "markdown",
      "source": "<h2>Table of Contents</h2>\n<div class=\"alert alert-block alert-info\" style=\"margin-top: 20px\">\n    <ul>\n        <li>\n            <a href=\"#Introduction-to-Classes-and-Objects\">Introduction to Classes and Objects</a>\n            <ul>\n                <li><a href=\"#Creating-a-class\">Creating a class</a></li>\n                <li><a href=\"#Instances-of-a-Class:-Objects-and-Attributes\">Instances of a Class: Objects and Attributes</a></li>\n                <li><a href=\"#Methods\">Methods</a></li>\n            </ul>\n        </li>\n        <li><a href=\"#Creating-a-class\">Creating a class</a></li>\n        <li><a href=\"#Creating-an-instance-of-a-class-Circle\">Creating an instance of a class Circle</a></li>\n        <li><a href=\"#The-Rectangle-Class\">The Rectangle Class</a></li>\n    </ul>\n\n</div>\n\n<hr>\n",
      "metadata": {}
    },
    {
      "cell_type": "markdown",
      "source": "## Introduction to Classes and Objects\n",
      "metadata": {}
    },
    {
      "cell_type": "markdown",
      "source": "Python is an object-oriented programming (OOP) language that uses a paradigm centered around objects and classes.",
      "metadata": {}
    },
    {
      "cell_type": "markdown",
      "source": "Classes\nA class is a blueprint or template for creating objects. It defines the structure and behavior that its objects will have.\n\nThink of a class as a cookie cutter and objects as the cookies cut from that template.\n\nIn Python, you can create classes using the class keyword.",
      "metadata": {}
    },
    {
      "cell_type": "markdown",
      "source": "Classes\n\nA class is a blueprint or template for creating objects. It defines the structure and behavior that its objects will have.\n\nThink of a class as a cookie cutter and objects as the cookies cut from that template.\n\nIn Python, you can create classes using the class keyword.",
      "metadata": {}
    },
    {
      "cell_type": "markdown",
      "source": "### Creating a Class\n",
      "metadata": {}
    },
    {
      "cell_type": "markdown",
      "source": "The first step in creating a class is giving it a name. In this notebook, we will create two classes: Circle and Rectangle. We need to determine all the data that make up that class, which we call <em>attributes</em>. Think about this step as creating a blue print that we will use to create objects. In figure 1 we see two classes, Circle and Rectangle. Each has their attributes, which are variables. The class Circle has the attribute radius and color, while the Rectangle class has the attribute height and width. Let’s use the visual examples of these shapes before we get to the code, as this will help you get accustomed to the vocabulary.\n",
      "metadata": {}
    },
    {
      "cell_type": "markdown",
      "source": "\n\nWhen you create a class, you specify the attributes(data) and methods (functions) that objects of that class will have.\nAttributes are defined as variables within the class, and methods are defined as functions.\nFor example,you can design a \"Car\" class with attributes such as \"color\" and \"speed,\" along with methods like \"accelerate.\"\n",
      "metadata": {}
    },
    {
      "cell_type": "markdown",
      "source": "<img src=\"https://cf-courses-data.s3.us.cloud-object-storage.appdomain.cloud/IBMDeveloperSkillsNetwork-PY0101EN-SkillsNetwork/labs/Module%203/images/ClassesClass.png\" width=\"500\">\n",
      "metadata": {}
    },
    {
      "cell_type": "markdown",
      "source": "<i>Figure 1: Classes circle and rectangle, and each has their own attributes. The class Circle has the attribute radius and colour, the class Rectangle has the attributes height and width.</i>\n",
      "metadata": {}
    },
    {
      "cell_type": "markdown",
      "source": "### Instances of a Class: Objects and Attributes\n",
      "metadata": {}
    },
    {
      "cell_type": "markdown",
      "source": "An instance of an object is the realisation of a class, and in Figure 2 we see three instances of the class circle. We give each object a name: red circle, yellow circle, and green circle. Each object has different attributes, so let's focus on the color attribute for each object.\n",
      "metadata": {}
    },
    {
      "cell_type": "markdown",
      "source": "<img src=\"https://cf-courses-data.s3.us.cloud-object-storage.appdomain.cloud/IBMDeveloperSkillsNetwork-PY0101EN-SkillsNetwork/labs/Module%203/images/ClassesObj.png\" width=\"500\">\n",
      "metadata": {}
    },
    {
      "cell_type": "markdown",
      "source": "<i>Figure 2: Three instances of the class Circle, or three objects of type Circle.</i>\n",
      "metadata": {}
    },
    {
      "cell_type": "markdown",
      "source": "The colour attribute for the red Circle is the colour red, for the green Circle object the colour attribute is green, and for the yellow Circle the colour attribute is yellow.\n",
      "metadata": {}
    },
    {
      "cell_type": "markdown",
      "source": "### Methods\n",
      "metadata": {}
    },
    {
      "cell_type": "markdown",
      "source": "Methods give you a way to change or interact with the object; they are functions that interact with objects. For example, let’s say we would like to increase the radius of a circle by a specified amount. We can create a method called **add_radius(r)** that increases the radius by **r**. This is shown in figure 3, where after applying the method to the \"orange circle object\", the radius of the object increases accordingly. The “dot” notation means to apply the method to the object, which is essentially applying a function to the information in the object.\n",
      "metadata": {}
    },
    {
      "cell_type": "markdown",
      "source": "<img src=\"https://cf-courses-data.s3.us.cloud-object-storage.appdomain.cloud/IBMDeveloperSkillsNetwork-PY0101EN-SkillsNetwork/labs/Module%203/images/ClassesMethod.png\" width=\"500\"> \n",
      "metadata": {}
    },
    {
      "cell_type": "markdown",
      "source": "<i>Figure 3: Applying the method “add_radius” to the object orange circle object.</i>\n",
      "metadata": {}
    },
    {
      "cell_type": "markdown",
      "source": "<hr>\n",
      "metadata": {}
    },
    {
      "cell_type": "markdown",
      "source": "## Creating a Class\n",
      "metadata": {}
    },
    {
      "cell_type": "markdown",
      "source": "Now we are going to create a class Circle, but first, we are going to import a library to draw the objects:\n",
      "metadata": {}
    },
    {
      "cell_type": "code",
      "source": "# Import the library\n\nimport matplotlib.pyplot as plt\n%matplotlib inline  ",
      "metadata": {
        "trusted": true
      },
      "outputs": [],
      "execution_count": 2
    },
    {
      "cell_type": "markdown",
      "source": "The first step in creating your own class is to use the <code>class</code> keyword, then the name of the class as shown in Figure 4. In this course the class parent will always be object:\n",
      "metadata": {}
    },
    {
      "cell_type": "markdown",
      "source": "<img src=\"https://cf-courses-data.s3.us.cloud-object-storage.appdomain.cloud/IBMDeveloperSkillsNetwork-PY0101EN-SkillsNetwork/labs/Module%203/images/ClassesDefine.png\" width=\"400\">\n",
      "metadata": {}
    },
    {
      "cell_type": "markdown",
      "source": "<i>Figure 4: Creating a class Circle.</i>\n",
      "metadata": {}
    },
    {
      "cell_type": "markdown",
      "source": "The next step is a special method called a constructor <code>\\__init\\_\\_</code>, which is used to initialize the object. The inputs are data attributes. The term <code>self</code> contains all the attributes in the set. For example the <code>self.color</code> gives the value of the attribute color and <code>self.radius</code> will give you the radius of the object. We also have the method <code>add_radius()</code> with the parameter <code>r</code>, the method adds the value of <code>r</code> to the attribute radius. To access the radius we use the syntax <code>self.radius</code>. The labeled syntax is summarized in Figure 5:\n",
      "metadata": {}
    },
    {
      "cell_type": "markdown",
      "source": "<img src=\"https://cf-courses-data.s3.us.cloud-object-storage.appdomain.cloud/IBMDeveloperSkillsNetwork-PY0101EN-SkillsNetwork/labs/Module%203/images/ClassesCircle.png\" width=\"600\">\n",
      "metadata": {}
    },
    {
      "cell_type": "markdown",
      "source": "<i>Figure 5: Labeled syntax of the object circle.</i>\n",
      "metadata": {}
    },
    {
      "cell_type": "markdown",
      "source": "The actual object is shown below. We include the method <code>drawCircle</code> to display the image of a circle. We set the default radius to 3 and the default colour to blue:\n",
      "metadata": {}
    },
    {
      "cell_type": "code",
      "source": "# Create a class Circle\n\nclass Circle(object):\n    \n    # Constructor\n    def __init__(self, radius=3, color='blue'):\n        self.radius = radius\n        self.color = color \n    \n    # Method\n    def add_radius(self, r):\n        self.radius = self.radius + r\n        return(self.radius)\n    \n    # Method\n    def drawCircle(self):\n        plt.gca().add_patch(plt.Circle((0, 0), radius=self.radius, fc=self.color))\n        plt.axis('scaled')\n        plt.show()  ",
      "metadata": {
        "trusted": true
      },
      "outputs": [],
      "execution_count": 3
    },
    {
      "cell_type": "markdown",
      "source": "<hr>\n",
      "metadata": {}
    },
    {
      "cell_type": "markdown",
      "source": "## Creating an instance of a class Circle\n",
      "metadata": {}
    },
    {
      "cell_type": "markdown",
      "source": "Let’s create the object <code>RedCircle</code> of type Circle to do the following:\n",
      "metadata": {}
    },
    {
      "cell_type": "code",
      "source": "# Create an object RedCircle\n\nRedCircle = Circle(10, 'red')",
      "metadata": {},
      "outputs": [],
      "execution_count": null
    },
    {
      "cell_type": "markdown",
      "source": "We can use the <code>dir</code> command to get a list of the object's methods. Many of them are default Python methods.\n",
      "metadata": {}
    },
    {
      "cell_type": "code",
      "source": "# Find out the methods can be used on the object RedCircle\n\ndir(RedCircle)",
      "metadata": {},
      "outputs": [],
      "execution_count": null
    },
    {
      "cell_type": "markdown",
      "source": "We can look at the data attributes of the object:\n",
      "metadata": {}
    },
    {
      "cell_type": "code",
      "source": "# Print the object attribute radius\n\nRedCircle.radius",
      "metadata": {},
      "outputs": [],
      "execution_count": null
    },
    {
      "cell_type": "code",
      "source": "# Print the object attribute color\n\nRedCircle.color",
      "metadata": {},
      "outputs": [],
      "execution_count": null
    },
    {
      "cell_type": "markdown",
      "source": "We can change the object's data attributes:\n",
      "metadata": {}
    },
    {
      "cell_type": "code",
      "source": "# Set the object attribute radius\n\nRedCircle.radius = 1\nRedCircle.radius",
      "metadata": {},
      "outputs": [],
      "execution_count": null
    },
    {
      "cell_type": "markdown",
      "source": "We can draw the object by using the method <code>drawCircle()</code>:\n",
      "metadata": {}
    },
    {
      "cell_type": "code",
      "source": "# Call the method drawCircle\n\nRedCircle.drawCircle()",
      "metadata": {},
      "outputs": [],
      "execution_count": null
    },
    {
      "cell_type": "markdown",
      "source": "We can increase the radius of the circle by applying the method <code>add_radius()</code>. Let's increases the radius by 2 and then by 5:\n",
      "metadata": {}
    },
    {
      "cell_type": "code",
      "source": "# Use method to change the object attribute radius\n\nprint('Radius of object:',RedCircle.radius)\nRedCircle.add_radius(2)\nprint('Radius of object of after applying the method add_radius(2):',RedCircle.radius)\nRedCircle.add_radius(5)\nprint('Radius of object of after applying the method add_radius(5):',RedCircle.radius)",
      "metadata": {},
      "outputs": [],
      "execution_count": null
    },
    {
      "cell_type": "markdown",
      "source": "Let’s create a blue circle. As the default colour is blue, all we have to do is specify what the radius is:\n",
      "metadata": {}
    },
    {
      "cell_type": "code",
      "source": "# Create a blue circle with a given radius\n\nBlueCircle = Circle(radius=100)",
      "metadata": {},
      "outputs": [],
      "execution_count": null
    },
    {
      "cell_type": "markdown",
      "source": "As before, we can access the attributes of the instance of the class by using the dot notation:\n",
      "metadata": {}
    },
    {
      "cell_type": "code",
      "source": "# Print the object attribute radius\n\nBlueCircle.radius",
      "metadata": {},
      "outputs": [],
      "execution_count": null
    },
    {
      "cell_type": "code",
      "source": "# Print the object attribute color\n\nBlueCircle.color",
      "metadata": {},
      "outputs": [],
      "execution_count": null
    },
    {
      "cell_type": "markdown",
      "source": "We can draw the object by using the method <code>drawCircle()</code>:\n",
      "metadata": {}
    },
    {
      "cell_type": "code",
      "source": "# Call the method drawCircle\n\nBlueCircle.drawCircle()",
      "metadata": {},
      "outputs": [],
      "execution_count": null
    },
    {
      "cell_type": "markdown",
      "source": "Compare the x and y axis of the figure to the figure for <code>RedCircle</code>; they are different.\n",
      "metadata": {}
    },
    {
      "cell_type": "markdown",
      "source": "<hr>\n",
      "metadata": {}
    },
    {
      "cell_type": "markdown",
      "source": "## The Rectangle Class\n",
      "metadata": {}
    },
    {
      "cell_type": "markdown",
      "source": "Let's create a class rectangle with the attributes of height, width, and color. We will only add the method to draw the rectangle object:\n",
      "metadata": {}
    },
    {
      "cell_type": "code",
      "source": "# Create a new Rectangle class for creating a rectangle object\n\nclass Rectangle(object):\n    \n    # Constructor\n    def __init__(self, width=2, height=3, color='r'):\n        self.height = height \n        self.width = width\n        self.color = color\n    \n    # Method\n    def drawRectangle(self):\n        plt.gca().add_patch(plt.Rectangle((0, 0), self.width, self.height ,fc=self.color))\n        plt.axis('scaled')\n        plt.show()\n        ",
      "metadata": {},
      "outputs": [],
      "execution_count": null
    },
    {
      "cell_type": "markdown",
      "source": "Let’s create the object <code>SkinnyBlueRectangle</code> of type Rectangle. Its width will be 2 and height will be 3, and the color will be blue:\n",
      "metadata": {}
    },
    {
      "cell_type": "code",
      "source": "# Create a new object rectangle\n\nSkinnyBlueRectangle = Rectangle(2, 3, 'blue')",
      "metadata": {},
      "outputs": [],
      "execution_count": null
    },
    {
      "cell_type": "markdown",
      "source": "As before we can access the attributes of the instance of the class by using the dot notation:\n",
      "metadata": {}
    },
    {
      "cell_type": "code",
      "source": "# Print the object attribute height\n\nSkinnyBlueRectangle.height ",
      "metadata": {},
      "outputs": [],
      "execution_count": null
    },
    {
      "cell_type": "code",
      "source": "# Print the object attribute width\n\nSkinnyBlueRectangle.width",
      "metadata": {},
      "outputs": [],
      "execution_count": null
    },
    {
      "cell_type": "code",
      "source": "# Print the object attribute color\n\nSkinnyBlueRectangle.color",
      "metadata": {},
      "outputs": [],
      "execution_count": null
    },
    {
      "cell_type": "markdown",
      "source": "We can draw the object:\n",
      "metadata": {}
    },
    {
      "cell_type": "code",
      "source": "# Use the drawRectangle method to draw the shape\n\nSkinnyBlueRectangle.drawRectangle()",
      "metadata": {},
      "outputs": [],
      "execution_count": null
    },
    {
      "cell_type": "markdown",
      "source": "Let’s create the object <code>FatYellowRectangle</code> of type Rectangle:\n",
      "metadata": {}
    },
    {
      "cell_type": "code",
      "source": "# Create a new object rectangle\n\nFatYellowRectangle = Rectangle(20, 5, 'yellow')",
      "metadata": {},
      "outputs": [],
      "execution_count": null
    },
    {
      "cell_type": "markdown",
      "source": "We can access the attributes of the instance of the class by using the dot notation:\n",
      "metadata": {}
    },
    {
      "cell_type": "code",
      "source": "# Print the object attribute height\n\nFatYellowRectangle.height ",
      "metadata": {},
      "outputs": [],
      "execution_count": null
    },
    {
      "cell_type": "code",
      "source": "# Print the object attribute width\n\nFatYellowRectangle.width",
      "metadata": {},
      "outputs": [],
      "execution_count": null
    },
    {
      "cell_type": "code",
      "source": "# Print the object attribute color\n\nFatYellowRectangle.color",
      "metadata": {},
      "outputs": [],
      "execution_count": null
    },
    {
      "cell_type": "markdown",
      "source": "We can draw the object:\n",
      "metadata": {}
    },
    {
      "cell_type": "code",
      "source": "# Use the drawRectangle method to draw the shape\n\nFatYellowRectangle.drawRectangle()",
      "metadata": {},
      "outputs": [],
      "execution_count": null
    },
    {
      "cell_type": "markdown",
      "source": "<hr>\n",
      "metadata": {}
    },
    {
      "cell_type": "markdown",
      "source": "<center>\n    \n# Scenario: Car dealership's inventory management system\n\n</center>\n",
      "metadata": {}
    },
    {
      "cell_type": "markdown",
      "source": "You are working on a Python program to simulate a car dealership's inventory management system. The system aims to model cars and their attributes accurately.\n",
      "metadata": {}
    },
    {
      "cell_type": "markdown",
      "source": "### Task-1. You are tasked with creating a Python program to represent vehicles using a class. Each car should have attributes for maximum speed and mileage. \n",
      "metadata": {}
    },
    {
      "cell_type": "code",
      "source": "#Type your code here",
      "metadata": {},
      "outputs": [],
      "execution_count": null
    },
    {
      "cell_type": "markdown",
      "source": "<details><summary>Click here for the solution</summary>\n\n```python\n\nclass Vehicle:\n    def __init__(self, max_speed, mileage):\n        self.max_speed = max_speed\n        self.mileage = mileage\n        \n```\n\n</details>\n",
      "metadata": {}
    },
    {
      "cell_type": "markdown",
      "source": "### Task-2. Update the class with the default color for all vehicles,\" white\".\n",
      "metadata": {}
    },
    {
      "cell_type": "code",
      "source": "#Type your code here",
      "metadata": {},
      "outputs": [],
      "execution_count": null
    },
    {
      "cell_type": "markdown",
      "source": "<details><summary>Click here for the solution</summary>\n\n```python\n\nclass Vehicle:\n    color = \"white\"\n\n    def __init__(self, max_speed, mileage):\n        self.max_speed = max_speed\n        self.mileage = mileage\n        \n```\n\n</details>\n",
      "metadata": {}
    },
    {
      "cell_type": "markdown",
      "source": "### Task-3. Additionally, you need to create methods in the Vehicle class to assign seating capacity to a vehicle. \n",
      "metadata": {}
    },
    {
      "cell_type": "code",
      "source": "#Type your code here",
      "metadata": {},
      "outputs": [],
      "execution_count": null
    },
    {
      "cell_type": "markdown",
      "source": "<details><summary>Click here for the solution</summary>\n\n```python\n\nclass Vehicle:\n    color = \"white\"\n\n    def __init__(self, max_speed, mileage):\n        self.max_speed = max_speed\n        self.mileage = mileage\n        self.seating_capacity = None\n\n    def assign_seating_capacity(self, seating_capacity):\n        self.seating_capacity = seating_capacity\n```\n\n</details>\n",
      "metadata": {}
    },
    {
      "cell_type": "markdown",
      "source": "### Task-4. Create a method to display all the properties of an object of the class. \n",
      "metadata": {}
    },
    {
      "cell_type": "code",
      "source": "#Type your code here",
      "metadata": {},
      "outputs": [],
      "execution_count": null
    },
    {
      "cell_type": "markdown",
      "source": "<details><summary>Click here for the solution</summary>\n\n```python\nclass Vehicle:\n    color = \"white\"\n\n    def __init__(self, max_speed, mileage):\n        self.max_speed = max_speed\n        self.mileage = mileage\n        self.seating_capacity = None\n\n    def assign_seating_capacity(self, seating_capacity):\n        self.seating_capacity = seating_capacity\n\n    def display_properties(self):\n        print(\"Properties of the Vehicle:\")\n        print(\"Color:\", self.color)\n        print(\"Maximum Speed:\", self.max_speed)\n        print(\"Mileage:\", self.mileage)\n        print(\"Seating Capacity:\", self.seating_capacity)\n        \n```\n\n</details>\n",
      "metadata": {}
    },
    {
      "cell_type": "markdown",
      "source": "### Task-5. Additionally, you need to create two objects of the Vehicle class object that should have a max speed of 200kmph and mileage of 20kmpl with five seating capacities, and another car object should have a max speed of 180kmph and mileage of 25kmpl with four seating capacities.\n",
      "metadata": {}
    },
    {
      "cell_type": "code",
      "source": "#Type your code here",
      "metadata": {},
      "outputs": [],
      "execution_count": null
    },
    {
      "cell_type": "markdown",
      "source": "<details><summary>Click here for the solution</summary>\n\n```python\nclass Vehicle:\n    color = \"white\"\n\n    def __init__(self, max_speed, mileage):\n        self.max_speed = max_speed\n        self.mileage = mileage\n        self.seating_capacity = None\n\n    def assign_seating_capacity(self, seating_capacity):\n        self.seating_capacity = seating_capacity\n\n    def display_properties(self):\n        print(\"Properties of the Vehicle:\")\n        print(\"Color:\", self.color)\n        print(\"Maximum Speed:\", self.max_speed)\n        print(\"Mileage:\", self.mileage)\n        print(\"Seating Capacity:\", self.seating_capacity)\n\n# Creating objects of the Vehicle class\nvehicle1 = Vehicle(200, 20)\nvehicle1.assign_seating_capacity(5)\nvehicle1.display_properties()\n\nvehicle2 = Vehicle(180, 25)\nvehicle2.assign_seating_capacity(4)\nvehicle2.display_properties()\n\n```\n\n</details>\n",
      "metadata": {}
    },
    {
      "cell_type": "markdown",
      "source": "Objects\n\nAn object is a fundamental unit in Python that represents a real-world entity or concept.\nObjects can be tangible (like a car) or abstract (like a student's grade).",
      "metadata": {}
    },
    {
      "cell_type": "markdown",
      "source": "Every object has two main characteristics:\n\nState\n\nThe attributes or data that describe the object. For your \"Car\" object, this might include attributes like \"color\", \"speed\", and \"fuel level\".\n\nBehavior\n\nThe actions or methods that the object can perform. In Python, methods are functions that belong to objects and can change the object's state or perform specific operations.",
      "metadata": {}
    },
    {
      "cell_type": "markdown",
      "source": "Instantiating objects\n\nOnce you've defined a class, you can create individual objects (instances) based on that class.\nEach object is independent and has its own set of attributes and methods.\nTo create an object, you use the class name followed by parentheses, so: \"my_car = Car()\"",
      "metadata": {}
    },
    {
      "cell_type": "markdown",
      "source": "Interacting with objects\n\nYou interact with objects by calling their methods or accessing their attributes using dot notation.\n\nFor example, if you have a Car object named my_car, you can set its color with my_car.color = \"blue\" and accelerate it with my_car.accelerate() if there's an accelerate method defined in the class.",
      "metadata": {}
    },
    {
      "cell_type": "markdown",
      "source": "Structure of classes and object code\n\nPlease don't directly copy and use this code because it is a template for explanation and not for specific results.",
      "metadata": {}
    },
    {
      "cell_type": "markdown",
      "source": "Class declaration (class ClassName)\n\nThe class keyword is used to declare a class in Python.\n\nClassName is the name of the class, typically following CamelCase naming conventions.",
      "metadata": {}
    },
    {
      "cell_type": "markdown",
      "source": "Class declaration (class ClassName)\n\nThe class keyword is used to declare a class in Python.\n\nClassName is the name of the class, typically following CamelCase naming conventions.",
      "metadata": {}
    },
    {
      "cell_type": "code",
      "source": "'''\nclass ClassName:\n    # Class attributes (shared by all instances)\n    class_attribute = value\n'''",
      "metadata": {
        "trusted": true
      },
      "outputs": [],
      "execution_count": null
    },
    {
      "cell_type": "markdown",
      "source": "Constructor method (def init(self, attribute1, attribute2, …):)\nThe __init__ method is a special method known as the constructor.\n\nIt initializes the instance attributes (also called instance variables) when an object is created.\n\nThe self parameter is the first parameter of the constructor, referring to the instance being created.\n\nattribute1, attribute2, and so on are parameters passed to the constructor when creating an object.\n\nInside the constructor, self.attribute1, self.attribute2, and so on are used to assign values to instance attributes.",
      "metadata": {}
    },
    {
      "cell_type": "code",
      "source": "'''\nclass ClassName:\n    # Class attributes (shared by all instances)\n    class_attribute = value\n\n    # Constructor method (initialize instance attributes)\n    def __init__(self, attribute1, attribute2, ...):\n        pass\n        # ...\n'''",
      "metadata": {
        "trusted": true
      },
      "outputs": [],
      "execution_count": null
    },
    {
      "cell_type": "markdown",
      "source": "Instance attributes (self.attribute1 = attribute1)\nInstance attributes are variables that store data specific to each class instance.\nThey are initialized within the __init__ method using the self keyword followed by the attribute name.\nThese attributes hold unique data for each object created from the class.",
      "metadata": {}
    },
    {
      "cell_type": "code",
      "source": "'''\nclass ClassName:\n    # Class attributes (shared by all instances)\n    class_attribute = value\n\n    # Constructor method (initialize instance attributes)\n    def __init__(self, attribute1, attribute2, ...):\n        self.attribute1 = attribute1\n        self.attribute2 = attribute2\n        # ...\n'''",
      "metadata": {
        "trusted": true
      },
      "outputs": [],
      "execution_count": null
    },
    {
      "cell_type": "markdown",
      "source": "Instance methods (def method1(self, parameter1, parameter2, …):)\n\nInstance methods are functions defined within the class.\n\nThey operate on the instance's data (instance attributes) and can perform actions specific to instances.\n\nThe self parameter is required in instance methods, allowing them to access instance attributes and call other methods within the class.",
      "metadata": {}
    },
    {
      "cell_type": "code",
      "source": "'''\nclass ClassName:\n    # Class attributes (shared by all instances)\n    class_attribute = value\n\n    # Constructor method (initialize instance attributes)\n    def __init__(self, attribute1, attribute2, ...):\n        self.attribute1 = attribute1\n        self.attribute2 = attribute2\n        # ...\n\n    # Instance methods (functions)\n    def method1(self, parameter1, parameter2, ...):\n        # Method logic\n        pass\n'''",
      "metadata": {
        "trusted": true
      },
      "outputs": [],
      "execution_count": null
    },
    {
      "cell_type": "markdown",
      "source": "Using the same steps you can define multiple instance methods.",
      "metadata": {}
    },
    {
      "cell_type": "code",
      "source": "'''\nclass ClassName:\n    # Class attributes (shared by all instances)\n    class_attribute = value\n\n    # Constructor method (initialize instance attributes)\n    def __init__(self, attribute1, attribute2, ...):\n        self.attribute1 = attribute1\n        self.attribute2 = attribute2\n        # ...\n\n    # Instance methods (functions)\n    def method1(self, parameter1, parameter2, ...):\n        # Method logic\n        pass\n\n    def method2(self, parameter1, parameter2, ...):\n        # Method logic\n        pass\n'''\n\n#Note: Now, you have successfully created a dummy class.",
      "metadata": {
        "trusted": true
      },
      "outputs": [],
      "execution_count": null
    },
    {
      "cell_type": "markdown",
      "source": "Creating objects (Instances)\n\nTo create objects (instances) of the class, you call the class like a function and provide arguments the constructor requires.\n    \nEach object is a distinct instance of the class, with its own instance attributes and the ability to call methods defined in the class.",
      "metadata": {}
    },
    {
      "cell_type": "code",
      "source": "# Create objects (instances) of the class\nobject1 = ClassName(arg1, arg2, ...)\nobject2 = ClassName(arg1, arg2, ...)",
      "metadata": {
        "trusted": true
      },
      "outputs": [],
      "execution_count": null
    },
    {
      "cell_type": "markdown",
      "source": "Calling methods on objects\nIn this section, you will call methods on objects, specifically object1 and object2.\nThe methods method1 and method2 are defined in the ClassName class, and you're calling them on object1 and object2 respectively.\nYou pass values param1_value and param2_value as arguments to these methods. These arguments are used within the method's logic.",
      "metadata": {}
    },
    {
      "cell_type": "markdown",
      "source": "Method 1: Using dot notation\n\nThis is the most straightforward way to call an object's method. In this, use the dot notation (object.method()) to invoke the method on the object directly.\n\nFor example, result1 = object1.method1(param1_value, param2_value, ...) calls method1 on object1.",
      "metadata": {}
    },
    {
      "cell_type": "code",
      "source": "# Calling methods on objects\n# Method 1: Using dot notation\nresult1 = object1.method1(param1_value, param2_value, ...)\nresult2 = object2.method2(param1_value, param2_value, ...)",
      "metadata": {
        "trusted": true
      },
      "outputs": [],
      "execution_count": null
    },
    {
      "cell_type": "markdown",
      "source": "Method 2: Assigning object methods to variables\nHere's an alternative way to call an object's method by assigning the method reference to a variable.\n\nmethod_reference = object1.method1 assigns the method method1 of object1 to the variable method_reference.\n\nLater, call the method using the variable like this: result3 = method_reference(param1_value, param2_value, …).",
      "metadata": {}
    },
    {
      "cell_type": "code",
      "source": "# Method 2: Assigning object methods to variables\nmethod_reference = object1.method1  # Assign the method to a variable\nresult3 = method_reference(param1_value, param2_value, ...)",
      "metadata": {
        "trusted": true
      },
      "outputs": [],
      "execution_count": null
    },
    {
      "cell_type": "markdown",
      "source": "Accessing object attributes\n\nHere, you are accessing an object's attribute using dot notation.\n\nattribute_value = object1.attribute1 retrieves the value of the attribute attribute1 from object1 and assigns it to the variable attribute_value.",
      "metadata": {}
    },
    {
      "cell_type": "code",
      "source": "# Accessing object attributes\nattribute_value = object1.attribute1  # Access the attribute using dot notation",
      "metadata": {
        "trusted": true
      },
      "outputs": [],
      "execution_count": null
    },
    {
      "cell_type": "markdown",
      "source": "Modifying object attributes\nYou will modify an object's attribute using dot notation.\nobject1.attribute2 = new_value sets the attribute attribute2 of object1 to the new value new_value.",
      "metadata": {}
    },
    {
      "cell_type": "code",
      "source": "# Modifying object attributes\nobject1.attribute2 = new_value  # Change the value of an attribute using dot notation",
      "metadata": {
        "trusted": true
      },
      "outputs": [],
      "execution_count": null
    },
    {
      "cell_type": "markdown",
      "source": "Accessing class attributes (shared by all instances)\n\nFinally, access a class attribute shared by all class instances.\n\nclass_attr_value = ClassName.class_attribute accesses the class attribute class_attribute from the ClassName class and assigns its value to the variable.\n\nclass_attr_value.",
      "metadata": {}
    },
    {
      "cell_type": "code",
      "source": "# Accessing class attributes (shared by all instances)\nclass_attr_value = ClassName.class_attribute",
      "metadata": {
        "trusted": true
      },
      "outputs": [],
      "execution_count": null
    },
    {
      "cell_type": "markdown",
      "source": "Real-world example\n\nLet's write a python program that simulates a simple car class, allowing you to create car instances, accelerate them, and display their current speeds.\n",
      "metadata": {}
    },
    {
      "cell_type": "code",
      "source": "#Real-world example\n#Let's write a python program that simulates a simple car class, allowing you to create car instances, accelerate them, and display their current speeds.\n",
      "metadata": {
        "trusted": true
      },
      "outputs": [],
      "execution_count": null
    },
    {
      "cell_type": "code",
      "source": "class Car:\n    # Class attribute (shared by all instances)\n    max_speed = 120  # Maximum speed in km/h\n\n    # Constructor method (initialize instance attributes)\n    def __init__(self, make, model, color, speed=0):\n        self.make = make\n        self.model = model\n        self.color = color\n        self.speed = speed  # Initial speed is set to 0\n\n    # Method for accelerating the car\n    def accelerate(self, acceleration):\n        if self.speed + acceleration <= Car.max_speed:\n            self.speed += acceleration\n        else:\n            self.speed = Car.max_speed\n\n    # Method to get the current speed of the car\n    def get_speed(self):\n        return self.speed",
      "metadata": {
        "trusted": true
      },
      "outputs": [],
      "execution_count": null
    },
    {
      "cell_type": "code",
      "source": "#Now, you will instantiate two objects of the Car class, each with the following characteristics:\n#car1: Make = \"Toyota\", Model = \"Camry\", Color = \"Blue\"\n\n#car2: Make = \"Honda\", Model = \"Civic\", Color = \"Red\"",
      "metadata": {
        "trusted": true
      },
      "outputs": [],
      "execution_count": null
    },
    {
      "cell_type": "code",
      "source": "# Create objects (instances) of the Car class\ncar1 = Car(\"Toyota\", \"Camry\", \"Blue\")\ncar2 = Car(\"Honda\", \"Civic\", \"Red\")",
      "metadata": {
        "trusted": true
      },
      "outputs": [],
      "execution_count": null
    },
    {
      "cell_type": "code",
      "source": "#Using the accelerate method, you will increase the speed of car1 by 30 km/h and car2 by 20 km/h.",
      "metadata": {
        "trusted": true
      },
      "outputs": [],
      "execution_count": null
    },
    {
      "cell_type": "code",
      "source": "# Accelerate the cars\ncar1.accelerate(30)\ncar2.accelerate(20)",
      "metadata": {
        "trusted": true
      },
      "outputs": [],
      "execution_count": null
    },
    {
      "cell_type": "code",
      "source": "#Lastly, you will display the current speed of each car by utilizing the get_speed method.",
      "metadata": {
        "trusted": true
      },
      "outputs": [],
      "execution_count": null
    },
    {
      "cell_type": "code",
      "source": "# Print the current speeds of the cars\nprint(f\"{car1.make} {car1.model} is currently at {car1.get_speed()} km/h.\")\nprint(f\"{car2.make} {car2.model} is currently at {car2.get_speed()} km/h.\")",
      "metadata": {
        "trusted": true
      },
      "outputs": [],
      "execution_count": null
    }
  ]
}